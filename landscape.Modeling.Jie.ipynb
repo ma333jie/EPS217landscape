{
 "cells": [
  {
   "cell_type": "markdown",
   "metadata": {},
   "source": [
    "0. Let's Define the problem"
   ]
  },
  {
   "cell_type": "code",
   "execution_count": 1,
   "metadata": {
    "collapsed": false
   },
   "outputs": [],
   "source": [
    "import numpy as np\n",
    "import random\n",
    "import math\n",
    "import matplotlib.pyplot as plt\n",
    "%matplotlib inline  "
   ]
  },
  {
   "cell_type": "code",
   "execution_count": 2,
   "metadata": {
    "collapsed": true
   },
   "outputs": [],
   "source": [
    "xl = 100*1e3\n",
    "yl = 100*1e3\n",
    "nx = 101\n",
    "ny = 101\n",
    "dt = 1000 # years\n",
    "nstep = 1000 "
   ]
  },
  {
   "cell_type": "code",
   "execution_count": 3,
   "metadata": {
    "collapsed": true
   },
   "outputs": [],
   "source": [
    "k = 1e-4\n",
    "n = 1\n",
    "m = 0.4\n",
    "u = 2.e-3"
   ]
  },
  {
   "cell_type": "markdown",
   "metadata": {},
   "source": [
    "### boundary condition \n",
    "c1: h = 0 and (U = 0) along all 4 boundaries /\n",
    "c2: h = 0 at y = 0, y = yl and cyclic boundary conditions between x = 0 and x = xl /\n",
    "c3: h = 0 at y = 0 and relfective boundary conditions at y = yl and cyclic boundary condition / \n",
    "\n",
    "initial condition h = 0, nut need to adding a 1m high random noise"
   ]
  },
  {
   "cell_type": "code",
   "execution_count": 4,
   "metadata": {
    "collapsed": false
   },
   "outputs": [],
   "source": [
    "# convection, everything only have one index\n",
    "nn = nx*ny\n",
    "h =  np.random.rand(nn,1)"
   ]
  },
  {
   "cell_type": "markdown",
   "metadata": {},
   "source": [
    "#### Do not run this, \n",
    "for j in range(ny): <br />\n",
    "    for i in range(nx):<br />\n",
    "        nn2 = i+j*nx"
   ]
  },
  {
   "cell_type": "code",
   "execution_count": 5,
   "metadata": {
    "collapsed": false
   },
   "outputs": [],
   "source": [
    "# compute the steepest neighbor node, check the smallest neighbor\n",
    "# teach solution \n",
    "# other note a = sum (a, 1, mask) "
   ]
  },
  {
   "cell_type": "code",
   "execution_count": 6,
   "metadata": {
    "collapsed": false
   },
   "outputs": [],
   "source": [
    "# 1.compare with 8 different number\n",
    "recdists = [] # distance to the receiver\n",
    "recInds = [] # which is the receiver \n",
    "dx = xl/(nx-1)\n",
    "dy = yl/(ny-1)\n",
    "ddia = math.sqrt(dx*dx+dy*dy)\n",
    "\n",
    "for i in range(nn):\n",
    "    hmin = h[i]\n",
    "    hmin = hmin[0]\n",
    "    rec = i # reciver is itself\n",
    "    d = 0  # distance is zero\n",
    "    \n",
    "    # make the hmin at the edges as zero first than calculate the inside value, fixed boundary \n",
    "    if i < nx or i > nn-nx or i % nx == 0 or i % nx == nx-1:\n",
    "        d = 0  \n",
    "        rec = i\n",
    "        \n",
    "    # 4 diagonal, 2 left, 2 right  \n",
    "    else:\n",
    "        ulist = [i-1+nx, i+1+nx, i-1-nx, i+1-nx, i-1, i+1, i-nx, i+nx] \n",
    "        dd = [ddia, ddia, ddia, ddia, dx,dx, dy,dy]\n",
    "        for j in range(8):\n",
    "            u = int(ulist[j])\n",
    "            a = h[u]\n",
    "            \n",
    "            if a < hmin:\n",
    "                hmin = a[0]\n",
    "                d = dd[j]\n",
    "                rec = u\n",
    "    \n",
    "    recdists.append(d) # distancce to its receiver  \n",
    "    recInds.append(rec) # index of the receiver "
   ]
  },
  {
   "cell_type": "code",
   "execution_count": 7,
   "metadata": {
    "collapsed": false
   },
   "outputs": [],
   "source": [
    "# loop through the receiver ray \n",
    "ndon = np.zeros(nn) # calculate how many donner each cell has\n",
    "donors = np.empty((nn,8)) # which index is the donner cell\n",
    "donors[:] = np.NAN\n",
    "#a = numpy.empty((3,3,))\n",
    "#>>> a[:] = numpy.NAN\n",
    "for i in range(nn):\n",
    "    current = recInds[i] #start from reading the receiver array \n",
    "    if i != current:\n",
    "        num = int(ndon[current])\n",
    "        donors[current,num]= i # tell the donor where current from \n",
    "        ndon[current] = ndon[current]+1 # tell donor how many donor it has"
   ]
  },
  {
   "cell_type": "code",
   "execution_count": 8,
   "metadata": {
    "collapsed": false
   },
   "outputs": [],
   "source": [
    "ndon = [0]*nn\n",
    "donors = [[]]*nn\n",
    "\n",
    "for i in range(nn):\n",
    "    current =recInds[i]\n",
    "    if i !=current:\n",
    "        donors[current] = donors[current]+[i]\n",
    "        ndon[current] = ndon[current]+1"
   ]
  },
  {
   "cell_type": "code",
   "execution_count": 9,
   "metadata": {
    "collapsed": false
   },
   "outputs": [],
   "source": [
    "def helper(old,roots):\n",
    "    if len(roots) == 0: # check if roots is an empty array        \n",
    "        return old\n",
    "    else:\n",
    "        node = roots[0]\n",
    "        old = old+[node]\n",
    "        \n",
    "        if ndon[node] == 0:\n",
    "            roots = roots[1:]\n",
    "        else:\n",
    "            roots = donors[node]+roots[1:]\n",
    "        return helper(old, roots)"
   ]
  },
  {
   "cell_type": "code",
   "execution_count": 10,
   "metadata": {
    "collapsed": false
   },
   "outputs": [],
   "source": [
    "#start from the boundary and find its roots until the roots is itself \n",
    "#process to the doner until the #nun doner is zero\n",
    "stacks = []\n",
    "colors = []\n",
    "# loop through each local minimum \n",
    "for i in range(nn):\n",
    "    if i == recInds[i]:\n",
    "        starter = i\n",
    "        old = []\n",
    "        stacks = stacks+helper(old, [starter])\n",
    "        nsameColor = len(helper(old,[starter]))\n",
    "        colors = colors +[starter]*nsameColor\n",
    "        "
   ]
  },
  {
   "cell_type": "code",
   "execution_count": 11,
   "metadata": {
    "collapsed": false
   },
   "outputs": [
    {
     "name": "stdout",
     "output_type": "stream",
     "text": [
      "<type 'list'>\n"
     ]
    }
   ],
   "source": [
    "print type(stacks)"
   ]
  },
  {
   "cell_type": "code",
   "execution_count": 12,
   "metadata": {
    "collapsed": false
   },
   "outputs": [],
   "source": [
    "revstacks = stacks[::-1]\n",
    "#calculate the drange area\n",
    "a = 0\n",
    "areas = []\n",
    "for i in range(nn):\n",
    "    # check if it is the edges \n",
    "    if ndon[revstacks[i]] == 0:\n",
    "        cumarea = dx*dy\n",
    "        \n",
    "    else:\n",
    "        cumarea = dx*dy+cumarea\n",
    "        a = a+1\n",
    "    areas.append(cumarea)"
   ]
  },
  {
   "cell_type": "code",
   "execution_count": 13,
   "metadata": {
    "collapsed": false
   },
   "outputs": [],
   "source": [
    "#build a link list, add the area dxdy "
   ]
  },
  {
   "cell_type": "code",
   "execution_count": 14,
   "metadata": {
    "collapsed": true
   },
   "outputs": [],
   "source": [
    "# first creat a area with "
   ]
  },
  {
   "cell_type": "code",
   "execution_count": null,
   "metadata": {
    "collapsed": false
   },
   "outputs": [],
   "source": []
  },
  {
   "cell_type": "code",
   "execution_count": null,
   "metadata": {
    "collapsed": true
   },
   "outputs": [],
   "source": []
  }
 ],
 "metadata": {
  "kernelspec": {
   "display_name": "Python 2",
   "language": "python",
   "name": "python2"
  },
  "language_info": {
   "codemirror_mode": {
    "name": "ipython",
    "version": 2
   },
   "file_extension": ".py",
   "mimetype": "text/x-python",
   "name": "python",
   "nbconvert_exporter": "python",
   "pygments_lexer": "ipython2",
   "version": "2.7.11"
  }
 },
 "nbformat": 4,
 "nbformat_minor": 0
}
