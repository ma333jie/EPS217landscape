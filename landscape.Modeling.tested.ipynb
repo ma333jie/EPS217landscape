{
 "cells": [
  {
   "cell_type": "markdown",
   "metadata": {},
   "source": [
    "0. Let's Define the problem"
   ]
  },
  {
   "cell_type": "code",
   "execution_count": 16,
   "metadata": {
    "collapsed": false
   },
   "outputs": [],
   "source": [
    "import numpy as np\n",
    "import random\n",
    "import math\n",
    "import matplotlib.pyplot as plt\n",
    "%matplotlib inline  "
   ]
  },
  {
   "cell_type": "markdown",
   "metadata": {
    "collapsed": true
   },
   "source": [
    "xl = 100*1e3\n",
    "yl = 100*1e3\n",
    "nx = 101\n",
    "ny = 101\n",
    "dt = 1000 # years\n",
    "nstep = 1000 "
   ]
  },
  {
   "cell_type": "markdown",
   "metadata": {
    "collapsed": true
   },
   "source": [
    "k = 1e-4\n",
    "n = 1\n",
    "m = 0.4\n",
    "u = 2.e-3"
   ]
  },
  {
   "cell_type": "markdown",
   "metadata": {},
   "source": [
    "### boundary condition \n",
    "c1: h = 0 and (U = 0) along all 4 boundaries /\n",
    "c2: h = 0 at y = 0, y = yl and cyclic boundary conditions between x = 0 and x = xl /\n",
    "c3: h = 0 at y = 0 and relfective boundary conditions at y = yl and cyclic boundary condition / \n",
    "\n",
    "initial condition h = 0, nut need to adding a 1m high random noise"
   ]
  },
  {
   "cell_type": "markdown",
   "metadata": {
    "collapsed": false
   },
   "source": [
    "# convection, everything only have one index\n",
    "nn = nx*ny\n",
    "h = np.random.rand((nn))"
   ]
  },
  {
   "cell_type": "markdown",
   "metadata": {},
   "source": [
    "#### Do not run this, \n",
    "for j in range(ny): <br />\n",
    "    for i in range(nx):<br />\n",
    "        nn2 = i+j*nx"
   ]
  },
  {
   "cell_type": "code",
   "execution_count": 17,
   "metadata": {
    "collapsed": false
   },
   "outputs": [],
   "source": [
    "################\n",
    "#  TEST ARRAY  #\n",
    "################\n",
    "xl = 10.\n",
    "yl = 5.\n",
    "nx = 10\n",
    "ny = 5\n",
    "nn = nx*ny\n",
    "h = np.array([9,0,0,0,6,6,6,5,4,3,\n",
    "              2,2,2,2,5,5,5,4,4,2,\n",
    "              3,3,3,3,5,4,3,2,1,0,\n",
    "              2,2,2,2,5,5,5,4,4,2,\n",
    "              0,0,0,0,6,6,6,5,4,3])\n",
    "\n",
    "# DERIVED VARIABLES\n",
    "dx = xl/(nx)\n",
    "dy = yl/(ny) \n",
    "indexVector = np.arange(nn)\n",
    "reshaped_index = indexVector.reshape(ny,nx)"
   ]
  },
  {
   "cell_type": "code",
   "execution_count": 18,
   "metadata": {
    "collapsed": false
   },
   "outputs": [],
   "source": [
    "def helper(old,roots):\n",
    "    if len(roots) == 0: # check if roots is an empty array        \n",
    "        return old\n",
    "    else:\n",
    "        node = roots[0]\n",
    "        old = old+[node]\n",
    "        \n",
    "        if ndon[node] == 0:\n",
    "            roots = roots[1:]\n",
    "        else:\n",
    "            roots = donors[node]+roots[1:]\n",
    "        return helper(old, roots)"
   ]
  },
  {
   "cell_type": "code",
   "execution_count": 19,
   "metadata": {
    "collapsed": false
   },
   "outputs": [],
   "source": [
    "# 1.compare with 8 different number\n",
    "recdists = [] # distance to the receiver\n",
    "recInds = [] # which is the receiver \n",
    "#dx = xl/(nx-1)\n",
    "#dy = yl/(ny-1)\n",
    "ddia = math.sqrt(dx*dx+dy*dy)\n",
    "\n",
    "for i in range(nn):\n",
    "    hmin = h[i]\n",
    "    rec = i # reciver is itself\n",
    "    d = 0  # distance is zero\n",
    "    \n",
    "    # make the hmin at the edges as zero first than calculate the inside value, fixed boundary \n",
    "    if i < nx or i > nn-nx or i % nx == 0 or i % nx == nx-1:\n",
    "        d = 0  \n",
    "        rec = i\n",
    "        \n",
    "    # 4 diagonal, 2 left, 2 right，if the dist is the same go y \n",
    "    else:\n",
    "        ulist = [i-1,i+1,i-nx,i+nx, i-1-nx, i+1-nx, i-1+nx, i+1+nx]\n",
    "        dd = [dx, dx, dy, dy, ddia,ddia, ddia,ddia]\n",
    "        for j in range(8):\n",
    "            u = ulist[j]\n",
    "            a = h[u]\n",
    "            \n",
    "            if a < hmin:\n",
    "                hmin = a\n",
    "                d = dd[j]\n",
    "                rec = u\n",
    "    \n",
    "    recdists.append(d) # distancce to its receiver  \n",
    "    recInds.append(rec) # index of the receiver "
   ]
  },
  {
   "cell_type": "code",
   "execution_count": 20,
   "metadata": {
    "collapsed": false
   },
   "outputs": [],
   "source": [
    "ndon = [0]*nn\n",
    "donors = [[]]*nn\n",
    "\n",
    "for i in range(nn):\n",
    "    current =recInds[i]\n",
    "    if i !=current:\n",
    "        donors[current] = donors[current]+[i]\n",
    "        ndon[current] = ndon[current]+1"
   ]
  },
  {
   "cell_type": "code",
   "execution_count": 21,
   "metadata": {
    "collapsed": false
   },
   "outputs": [],
   "source": [
    "#start from the boundary and find its roots until the roots is itself \n",
    "#process to the doner until the #nun doner is zero\n",
    "stacks = []\n",
    "colors = []\n",
    "# loop through each local minimum \n",
    "for i in range(nn):\n",
    "    if i == recInds[i]:\n",
    "        starter = i\n",
    "        old = []\n",
    "        stacks = stacks+helper(old, [starter])\n",
    "        nsameColor = len(helper(old,[starter]))\n",
    "        colors = colors +[starter]*nsameColor\n",
    "        "
   ]
  },
  {
   "cell_type": "code",
   "execution_count": 34,
   "metadata": {
    "collapsed": false
   },
   "outputs": [
    {
     "name": "stdout",
     "output_type": "stream",
     "text": [
      "1.0\n"
     ]
    }
   ],
   "source": [
    "revstacks = stacks[::-1]\n",
    "#calculate the drange area, since it does not run in order, we need initialize it into numpy format\n",
    "area = np.ones(nn)*dx*dy\n",
    "print dx*dy\n",
    "for node in revstacks:\n",
    "    if recInds[node] != node: #if it is not at the highest elevation\n",
    "        area[recInds[node]] = area[recInds[node]]+area[node]"
   ]
  },
  {
   "cell_type": "code",
   "execution_count": 35,
   "metadata": {
    "collapsed": false
   },
   "outputs": [
    {
     "name": "stdout",
     "output_type": "stream",
     "text": [
      "h\n",
      "[[9 0 0 0 6 6 6 5 4 3]\n",
      " [2 2 2 2 5 5 5 4 4 2]\n",
      " [3 3 3 3 5 4 3 2 1 0]\n",
      " [2 2 2 2 5 5 5 4 4 2]\n",
      " [0 0 0 0 6 6 6 5 4 3]]\n",
      "index\n",
      "[[ 0  1  2  3  4  5  6  7  8  9]\n",
      " [10 11 12 13 14 15 16 17 18 19]\n",
      " [20 21 22 23 24 25 26 27 28 29]\n",
      " [30 31 32 33 34 35 36 37 38 39]\n",
      " [40 41 42 43 44 45 46 47 48 49]]\n",
      "receiver\n",
      "[[ 0  1  2  3  4  5  6  7  8  9]\n",
      " [10  1  2  3  3 26 27 28 29 19]\n",
      " [20 11 12 13 13 26 27 28 29 29]\n",
      " [30 41 42 43 43 26 27 28 29 39]\n",
      " [40 41 42 43 44 45 46 47 48 49]]\n",
      "ndon\n",
      "[[0 1 1 2 0 0 0 0 0 0]\n",
      " [0 1 1 2 0 0 0 0 0 0]\n",
      " [0 0 0 0 0 0 3 3 3 3]\n",
      " [0 0 0 0 0 0 0 0 0 0]\n",
      " [0 1 1 2 0 0 0 0 0 0]]\n",
      "area\n",
      "[[  1.   3.   3.   5.   1.   1.   1.   1.   1.   1.]\n",
      " [  1.   2.   2.   3.   1.   1.   1.   1.   1.   1.]\n",
      " [  1.   1.   1.   1.   1.   1.   4.   7.  10.  13.]\n",
      " [  1.   1.   1.   1.   1.   1.   1.   1.   1.   1.]\n",
      " [  1.   2.   2.   3.   1.   1.   1.   1.   1.   1.]]\n",
      "stack\n",
      "[[ 0  1 11 21  2 12 22  3 13 23]\n",
      " [24 14  4  5  6  7  8  9 10 19]\n",
      " [20 29 18 28 17 27 16 26 15 25]\n",
      " [35 36 37 38 30 39 40 41 31 42]\n",
      " [32 43 33 34 44 45 46 47 48 49]]\n"
     ]
    }
   ],
   "source": [
    "def plot_mesh(oneD_in):\n",
    "    \"\"\"Take 1-d array, plot as color mesh grid\"\"\"\n",
    "    grid = np.reshape(oneD_in,(ny,nx))\n",
    "    plt.pcolormesh(grid, cmap='RdBu')\n",
    "    #plt.gca().invert_yaxis()\n",
    "    #plt.show()\n",
    "\n",
    "reshaped_h = h.reshape(ny,nx)\n",
    "receiver =np.asarray(recInds)\n",
    "ndon = np.asarray(ndon)\n",
    "stack = np.asarray(stacks)\n",
    "slope = np.zeros(nn)\n",
    "direction = np.full(nn, 4)\n",
    "\n",
    "\n",
    "reshaped_receiver = receiver.reshape(ny,nx)\n",
    "reshaped_ndon = ndon.reshape(ny,nx)\n",
    "print 'h'\n",
    "print reshaped_h\n",
    "print 'index'\n",
    "print reshaped_index\n",
    "print 'receiver'\n",
    "print reshaped_receiver\n",
    "print 'ndon'\n",
    "print reshaped_ndon\n",
    "print 'area'\n",
    "print area.reshape(ny,nx)\n",
    "print 'stack'\n",
    "print stack.reshape(ny,nx)"
   ]
  },
  {
   "cell_type": "code",
   "execution_count": 24,
   "metadata": {
    "collapsed": false
   },
   "outputs": [
    {
     "data": {
      "image/png": "[encoded data removed]",
      "text/plain": [
       "<matplotlib.figure.Figure at 0x622e358>"
      ]
     },
     "metadata": {},
     "output_type": "display_data"
    }
   ],
   "source": [
    "\n",
    "#Build arrow index vector arrays\n",
    "U = np.zeros(nn)\n",
    "V = np.zeros(nn)\n",
    "\n",
    "for ij in indexVector:\n",
    "    if direction[ij] == 0:\n",
    "        U[ij] = -1\n",
    "        V[ij] = 1\n",
    "    if direction[ij] == 1:\n",
    "        U[ij] = 0\n",
    "        V[ij] = 1\n",
    "    if direction[ij] == 2:\n",
    "        U[ij] = 1\n",
    "        V[ij] = 1\n",
    "    if direction[ij] == 3:\n",
    "        U[ij] = -1\n",
    "        V[ij] = 0\n",
    "    if direction[ij] == 4:\n",
    "        U[ij] = 0\n",
    "        V[ij] = 0\n",
    "    if direction[ij] == 5:\n",
    "        U[ij] = 1\n",
    "        V[ij] = 0\n",
    "    if direction[ij] == 6:\n",
    "        U[ij] = -1\n",
    "        V[ij] = -1\n",
    "    if direction[ij] == 7:\n",
    "        U[ij] = 0\n",
    "        V[ij] = -1\n",
    "    if direction[ij] == 8:\n",
    "        U[ij] = 1\n",
    "        V[ij] = -1\n",
    "\n",
    "plot_mesh(h)\n",
    "\n"
   ]
  },
  {
   "cell_type": "code",
   "execution_count": 31,
   "metadata": {
    "collapsed": false
   },
   "outputs": [
    {
     "data": {
      "image/png": "[encoded data removed]",
      "text/plain": [
       "<matplotlib.figure.Figure at 0x34c6470>"
      ]
     },
     "metadata": {},
     "output_type": "display_data"
    }
   ],
   "source": [
    "# Plot arrows of steepest descent\n",
    "qx = np.arange(nx)\n",
    "qy = np.arange(ny)\n",
    "qU = U.reshape(ny,nx)\n",
    "qV = V.reshape(ny,nx)\n",
    "Q = plt.quiver(qx+(dx/2.0),qy+(dy/2.0),qU,qV)\n",
    "\n",
    "plt.gca().invert_yaxis()\n",
    "plt.show()\n"
   ]
  },
  {
   "cell_type": "code",
   "execution_count": 26,
   "metadata": {
    "collapsed": false
   },
   "outputs": [
    {
     "data": {
      "text/plain": [
       "'\\nndon = np.zeros(nn) # calculate how many donner each cell has\\ndonors = np.empty((nn,8)) # which index is the donner cell\\ndonors[:] = np.NAN\\n#a = numpy.empty((3,3,))\\n#>>> a[:] = numpy.NAN\\nfor i in range(nn):\\n    current = recInds[i] #start from reading the receiver array \\n    if i != current:\\n        num = int(ndon[current])\\n        donors[current,num]= i # tell the donor where current from \\n        ndon[current] = ndon[current]+1 # tell donor how many donor it has\\n'"
      ]
     },
     "execution_count": 26,
     "metadata": {},
     "output_type": "execute_result"
    }
   ],
   "source": [
    "# loop through the receiver ray \n",
    "'''\n",
    "ndon = np.zeros(nn) # calculate how many donner each cell has\n",
    "donors = np.empty((nn,8)) # which index is the donner cell\n",
    "donors[:] = np.NAN\n",
    "#a = numpy.empty((3,3,))\n",
    "#>>> a[:] = numpy.NAN\n",
    "for i in range(nn):\n",
    "    current = recInds[i] #start from reading the receiver array \n",
    "    if i != current:\n",
    "        num = int(ndon[current])\n",
    "        donors[current,num]= i # tell the donor where current from \n",
    "        ndon[current] = ndon[current]+1 # tell donor how many donor it has\n",
    "'''"
   ]
  },
  {
   "cell_type": "code",
   "execution_count": 27,
   "metadata": {
    "collapsed": false
   },
   "outputs": [
    {
     "name": "stdout",
     "output_type": "stream",
     "text": [
      "<type 'list'>\n"
     ]
    }
   ],
   "source": [
    "print type(stacks)"
   ]
  },
  {
   "cell_type": "code",
   "execution_count": 28,
   "metadata": {
    "collapsed": false
   },
   "outputs": [],
   "source": [
    "#build a link list, add the area dxdy "
   ]
  },
  {
   "cell_type": "code",
   "execution_count": 29,
   "metadata": {
    "collapsed": true
   },
   "outputs": [],
   "source": [
    "# first creat a area with "
   ]
  },
  {
   "cell_type": "code",
   "execution_count": 30,
   "metadata": {
    "collapsed": false
   },
   "outputs": [
    {
     "name": "stdout",
     "output_type": "stream",
     "text": [
      "3\n"
     ]
    }
   ],
   "source": [
    "print a"
   ]
  },
  {
   "cell_type": "code",
   "execution_count": null,
   "metadata": {
    "collapsed": true
   },
   "outputs": [],
   "source": []
  }
 ],
 "metadata": {
  "kernelspec": {
   "display_name": "Python 2",
   "language": "python",
   "name": "python2"
  },
  "language_info": {
   "codemirror_mode": {
    "name": "ipython",
    "version": 2
   },
   "file_extension": ".py",
   "mimetype": "text/x-python",
   "name": "python",
   "nbconvert_exporter": "python",
   "pygments_lexer": "ipython2",
   "version": "2.7.11"
  }
 },
 "nbformat": 4,
 "nbformat_minor": 0
}
